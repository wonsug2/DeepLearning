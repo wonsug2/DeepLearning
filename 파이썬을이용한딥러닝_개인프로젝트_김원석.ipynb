{
  "nbformat": 4,
  "nbformat_minor": 0,
  "metadata": {
    "kernelspec": {
      "display_name": "Python 3",
      "language": "python",
      "name": "python3"
    },
    "language_info": {
      "codemirror_mode": {
        "name": "ipython",
        "version": 3
      },
      "file_extension": ".py",
      "mimetype": "text/x-python",
      "name": "python",
      "nbconvert_exporter": "python",
      "pygments_lexer": "ipython3",
      "version": "3.6.5"
    },
    "colab": {
      "name": "파이썬을이용한딥러닝_개인프로젝트_김원석.ipynb",
      "provenance": [],
      "collapsed_sections": []
    }
  },
  "cells": [
    {
      "cell_type": "code",
      "metadata": {
        "id": "G2D3y4MlT8ii"
      },
      "source": [
        "from sklearn.preprocessing import MinMaxScaler\n",
        "import numpy as np\n",
        "import io\n",
        "import pandas as pd\n",
        "import matplotlib.pyplot as plt\n",
        "from sklearn.metrics import mean_squared_error"
      ],
      "execution_count": null,
      "outputs": []
    },
    {
      "cell_type": "markdown",
      "metadata": {
        "id": "ShjOX-AzZlL_"
      },
      "source": [
        "데이터 불러오기(온라인 쇼핑 플랫폼 고객들의 행동 데이터)\n",
        "- BUY_CT_sum - 고객들의 일별 구매건수 합계\n",
        "- HITS_SEQ_mean - 고객들의 일별 클릭수 평균\n",
        "- TOT_SESS_HR_V_mean - 고객들의 일별 체류시간 평균\n",
        "- CLNT_AGE_mean - 고객들의 일별 연령대 평균\n",
        "- fashion - fashion 분야 네이버 데이터랩 쇼핑인사이트 클릭량 추이"
      ]
    },
    {
      "cell_type": "code",
      "metadata": {
        "colab": {
          "resources": {
            "http://localhost:8080/nbextensions/google.colab/files.js": {
              "data": "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",
              "ok": true,
              "headers": [
                [
                  "content-type",
                  "application/javascript"
                ]
              ],
              "status": 200,
              "status_text": ""
            }
          },
          "base_uri": "https://localhost:8080/",
          "height": 77
        },
        "id": "TWMk2u5kiNE_",
        "outputId": "2ae90aa2-ff77-4972-e81a-da2d0a45eb11"
      },
      "source": [
        "from google.colab import files\n",
        "myfile = files.upload()"
      ],
      "execution_count": null,
      "outputs": [
        {
          "output_type": "display_data",
          "data": {
            "text/html": [
              "\n",
              "     <input type=\"file\" id=\"files-bacc8f00-a6d0-4ed9-a249-fc2a588657cb\" name=\"files[]\" multiple disabled\n",
              "        style=\"border:none\" />\n",
              "     <output id=\"result-bacc8f00-a6d0-4ed9-a249-fc2a588657cb\">\n",
              "      Upload widget is only available when the cell has been executed in the\n",
              "      current browser session. Please rerun this cell to enable.\n",
              "      </output>\n",
              "      <script src=\"/nbextensions/google.colab/files.js\"></script> "
            ],
            "text/plain": [
              "<IPython.core.display.HTML object>"
            ]
          },
          "metadata": {
            "tags": []
          }
        },
        {
          "output_type": "stream",
          "text": [
            "Saving Class9.csv to Class9.csv\n"
          ],
          "name": "stdout"
        }
      ]
    },
    {
      "cell_type": "code",
      "metadata": {
        "colab": {
          "base_uri": "https://localhost:8080/",
          "height": 206
        },
        "id": "YJ2xdkNaimH-",
        "outputId": "f40d1579-20c7-4ccd-b0fb-4106038b93e3"
      },
      "source": [
        "Class9 = pd.read_csv(io.BytesIO(myfile['Class9.csv']))\n",
        "Class9.head()"
      ],
      "execution_count": null,
      "outputs": [
        {
          "output_type": "execute_result",
          "data": {
            "text/html": [
              "<div>\n",
              "<style scoped>\n",
              "    .dataframe tbody tr th:only-of-type {\n",
              "        vertical-align: middle;\n",
              "    }\n",
              "\n",
              "    .dataframe tbody tr th {\n",
              "        vertical-align: top;\n",
              "    }\n",
              "\n",
              "    .dataframe thead th {\n",
              "        text-align: right;\n",
              "    }\n",
              "</style>\n",
              "<table border=\"1\" class=\"dataframe\">\n",
              "  <thead>\n",
              "    <tr style=\"text-align: right;\">\n",
              "      <th></th>\n",
              "      <th>BUY_CT_sum</th>\n",
              "      <th>HITS_SEQ_mean</th>\n",
              "      <th>TOT_SESS_HR_V_mean</th>\n",
              "      <th>CLNT_AGE_mean</th>\n",
              "      <th>fashion</th>\n",
              "    </tr>\n",
              "  </thead>\n",
              "  <tbody>\n",
              "    <tr>\n",
              "      <th>0</th>\n",
              "      <td>15446</td>\n",
              "      <td>107.008910</td>\n",
              "      <td>1958.732921</td>\n",
              "      <td>34.931247</td>\n",
              "      <td>383.777778</td>\n",
              "    </tr>\n",
              "    <tr>\n",
              "      <th>1</th>\n",
              "      <td>13338</td>\n",
              "      <td>91.290241</td>\n",
              "      <td>1738.117266</td>\n",
              "      <td>34.622027</td>\n",
              "      <td>356.888889</td>\n",
              "    </tr>\n",
              "    <tr>\n",
              "      <th>2</th>\n",
              "      <td>13514</td>\n",
              "      <td>94.545942</td>\n",
              "      <td>1776.986599</td>\n",
              "      <td>34.835746</td>\n",
              "      <td>349.555556</td>\n",
              "    </tr>\n",
              "    <tr>\n",
              "      <th>3</th>\n",
              "      <td>12405</td>\n",
              "      <td>88.670594</td>\n",
              "      <td>1651.527270</td>\n",
              "      <td>34.530426</td>\n",
              "      <td>339.777778</td>\n",
              "    </tr>\n",
              "    <tr>\n",
              "      <th>4</th>\n",
              "      <td>11739</td>\n",
              "      <td>90.039054</td>\n",
              "      <td>1731.360890</td>\n",
              "      <td>35.380734</td>\n",
              "      <td>325.111111</td>\n",
              "    </tr>\n",
              "  </tbody>\n",
              "</table>\n",
              "</div>"
            ],
            "text/plain": [
              "   BUY_CT_sum  HITS_SEQ_mean  TOT_SESS_HR_V_mean  CLNT_AGE_mean     fashion\n",
              "0       15446     107.008910         1958.732921      34.931247  383.777778\n",
              "1       13338      91.290241         1738.117266      34.622027  356.888889\n",
              "2       13514      94.545942         1776.986599      34.835746  349.555556\n",
              "3       12405      88.670594         1651.527270      34.530426  339.777778\n",
              "4       11739      90.039054         1731.360890      35.380734  325.111111"
            ]
          },
          "metadata": {
            "tags": []
          },
          "execution_count": 8
        }
      ]
    },
    {
      "cell_type": "markdown",
      "metadata": {
        "id": "gmuxX4HoaYi2"
      },
      "source": [
        "데이터테이블에 날짜(Date) 컬럼 추가"
      ]
    },
    {
      "cell_type": "code",
      "metadata": {
        "colab": {
          "base_uri": "https://localhost:8080/",
          "height": 237
        },
        "id": "0X2J4-rmT8io",
        "outputId": "5602ba4a-69fe-4576-b79d-6acd18d3486f"
      },
      "source": [
        "Class9['Date'] = pd.date_range('2020-04-01', '2020-09-30').strftime('%Y-%m-%d')\n",
        "Class9['Date'] = pd.to_datetime(Class9['Date'])\n",
        "Class9 = Class9.set_index('Date')\n",
        "Class9.head()"
      ],
      "execution_count": null,
      "outputs": [
        {
          "output_type": "execute_result",
          "data": {
            "text/html": [
              "<div>\n",
              "<style scoped>\n",
              "    .dataframe tbody tr th:only-of-type {\n",
              "        vertical-align: middle;\n",
              "    }\n",
              "\n",
              "    .dataframe tbody tr th {\n",
              "        vertical-align: top;\n",
              "    }\n",
              "\n",
              "    .dataframe thead th {\n",
              "        text-align: right;\n",
              "    }\n",
              "</style>\n",
              "<table border=\"1\" class=\"dataframe\">\n",
              "  <thead>\n",
              "    <tr style=\"text-align: right;\">\n",
              "      <th></th>\n",
              "      <th>BUY_CT_sum</th>\n",
              "      <th>HITS_SEQ_mean</th>\n",
              "      <th>TOT_SESS_HR_V_mean</th>\n",
              "      <th>CLNT_AGE_mean</th>\n",
              "      <th>fashion</th>\n",
              "    </tr>\n",
              "    <tr>\n",
              "      <th>Date</th>\n",
              "      <th></th>\n",
              "      <th></th>\n",
              "      <th></th>\n",
              "      <th></th>\n",
              "      <th></th>\n",
              "    </tr>\n",
              "  </thead>\n",
              "  <tbody>\n",
              "    <tr>\n",
              "      <th>2020-04-01</th>\n",
              "      <td>15446</td>\n",
              "      <td>107.008910</td>\n",
              "      <td>1958.732921</td>\n",
              "      <td>34.931247</td>\n",
              "      <td>383.777778</td>\n",
              "    </tr>\n",
              "    <tr>\n",
              "      <th>2020-04-02</th>\n",
              "      <td>13338</td>\n",
              "      <td>91.290241</td>\n",
              "      <td>1738.117266</td>\n",
              "      <td>34.622027</td>\n",
              "      <td>356.888889</td>\n",
              "    </tr>\n",
              "    <tr>\n",
              "      <th>2020-04-03</th>\n",
              "      <td>13514</td>\n",
              "      <td>94.545942</td>\n",
              "      <td>1776.986599</td>\n",
              "      <td>34.835746</td>\n",
              "      <td>349.555556</td>\n",
              "    </tr>\n",
              "    <tr>\n",
              "      <th>2020-04-04</th>\n",
              "      <td>12405</td>\n",
              "      <td>88.670594</td>\n",
              "      <td>1651.527270</td>\n",
              "      <td>34.530426</td>\n",
              "      <td>339.777778</td>\n",
              "    </tr>\n",
              "    <tr>\n",
              "      <th>2020-04-05</th>\n",
              "      <td>11739</td>\n",
              "      <td>90.039054</td>\n",
              "      <td>1731.360890</td>\n",
              "      <td>35.380734</td>\n",
              "      <td>325.111111</td>\n",
              "    </tr>\n",
              "  </tbody>\n",
              "</table>\n",
              "</div>"
            ],
            "text/plain": [
              "            BUY_CT_sum  HITS_SEQ_mean  ...  CLNT_AGE_mean     fashion\n",
              "Date                                   ...                           \n",
              "2020-04-01       15446     107.008910  ...      34.931247  383.777778\n",
              "2020-04-02       13338      91.290241  ...      34.622027  356.888889\n",
              "2020-04-03       13514      94.545942  ...      34.835746  349.555556\n",
              "2020-04-04       12405      88.670594  ...      34.530426  339.777778\n",
              "2020-04-05       11739      90.039054  ...      35.380734  325.111111\n",
              "\n",
              "[5 rows x 5 columns]"
            ]
          },
          "metadata": {
            "tags": []
          },
          "execution_count": 9
        }
      ]
    },
    {
      "cell_type": "markdown",
      "metadata": {
        "id": "lWV9xFQCb-H5"
      },
      "source": [
        "Y값 설정(BUT_CT_sum, 고객들의 일별 구매건수 합계)"
      ]
    },
    {
      "cell_type": "code",
      "metadata": {
        "id": "tuniTbSbT8it"
      },
      "source": [
        "Y = Class9['BUY_CT_sum']"
      ],
      "execution_count": null,
      "outputs": []
    },
    {
      "cell_type": "markdown",
      "metadata": {
        "id": "6eQK955acLdh"
      },
      "source": [
        "Modeling을 위한 Y값 제거 / 변수명 변경"
      ]
    },
    {
      "cell_type": "code",
      "metadata": {
        "colab": {
          "base_uri": "https://localhost:8080/",
          "height": 237
        },
        "id": "m_-k6MTnT8it",
        "outputId": "084329bc-03ed-400d-b39b-a42fef117b42"
      },
      "source": [
        "Class9.drop(columns=['BUY_CT_sum'],inplace=True)\n",
        "Class9.rename(columns = {'fashion' : 'naver_click'}, inplace=True)\n",
        "Class9.head()"
      ],
      "execution_count": null,
      "outputs": [
        {
          "output_type": "execute_result",
          "data": {
            "text/html": [
              "<div>\n",
              "<style scoped>\n",
              "    .dataframe tbody tr th:only-of-type {\n",
              "        vertical-align: middle;\n",
              "    }\n",
              "\n",
              "    .dataframe tbody tr th {\n",
              "        vertical-align: top;\n",
              "    }\n",
              "\n",
              "    .dataframe thead th {\n",
              "        text-align: right;\n",
              "    }\n",
              "</style>\n",
              "<table border=\"1\" class=\"dataframe\">\n",
              "  <thead>\n",
              "    <tr style=\"text-align: right;\">\n",
              "      <th></th>\n",
              "      <th>HITS_SEQ_mean</th>\n",
              "      <th>TOT_SESS_HR_V_mean</th>\n",
              "      <th>CLNT_AGE_mean</th>\n",
              "      <th>naver_click</th>\n",
              "    </tr>\n",
              "    <tr>\n",
              "      <th>Date</th>\n",
              "      <th></th>\n",
              "      <th></th>\n",
              "      <th></th>\n",
              "      <th></th>\n",
              "    </tr>\n",
              "  </thead>\n",
              "  <tbody>\n",
              "    <tr>\n",
              "      <th>2020-04-01</th>\n",
              "      <td>107.008910</td>\n",
              "      <td>1958.732921</td>\n",
              "      <td>34.931247</td>\n",
              "      <td>383.777778</td>\n",
              "    </tr>\n",
              "    <tr>\n",
              "      <th>2020-04-02</th>\n",
              "      <td>91.290241</td>\n",
              "      <td>1738.117266</td>\n",
              "      <td>34.622027</td>\n",
              "      <td>356.888889</td>\n",
              "    </tr>\n",
              "    <tr>\n",
              "      <th>2020-04-03</th>\n",
              "      <td>94.545942</td>\n",
              "      <td>1776.986599</td>\n",
              "      <td>34.835746</td>\n",
              "      <td>349.555556</td>\n",
              "    </tr>\n",
              "    <tr>\n",
              "      <th>2020-04-04</th>\n",
              "      <td>88.670594</td>\n",
              "      <td>1651.527270</td>\n",
              "      <td>34.530426</td>\n",
              "      <td>339.777778</td>\n",
              "    </tr>\n",
              "    <tr>\n",
              "      <th>2020-04-05</th>\n",
              "      <td>90.039054</td>\n",
              "      <td>1731.360890</td>\n",
              "      <td>35.380734</td>\n",
              "      <td>325.111111</td>\n",
              "    </tr>\n",
              "  </tbody>\n",
              "</table>\n",
              "</div>"
            ],
            "text/plain": [
              "            HITS_SEQ_mean  TOT_SESS_HR_V_mean  CLNT_AGE_mean  naver_click\n",
              "Date                                                                     \n",
              "2020-04-01     107.008910         1958.732921      34.931247   383.777778\n",
              "2020-04-02      91.290241         1738.117266      34.622027   356.888889\n",
              "2020-04-03      94.545942         1776.986599      34.835746   349.555556\n",
              "2020-04-04      88.670594         1651.527270      34.530426   339.777778\n",
              "2020-04-05      90.039054         1731.360890      35.380734   325.111111"
            ]
          },
          "metadata": {
            "tags": []
          },
          "execution_count": 12
        }
      ]
    },
    {
      "cell_type": "markdown",
      "metadata": {
        "id": "Th43tcDpcfvw"
      },
      "source": [
        "Data Scaling 함수 정의(Min-Max Scale)"
      ]
    },
    {
      "cell_type": "code",
      "metadata": {
        "id": "kYR3CDZAT8iv"
      },
      "source": [
        "def minmax(dataset):\n",
        "    dataNorm=((dataset-dataset.min())/(dataset.max()-dataset.min()))\n",
        "    return dataNorm\n",
        "\n",
        "def inverse_minmax(norm,dataset):\n",
        "    deNorm=norm*(dataset.max()-dataset.min())+dataset.min()\n",
        "    return deNorm"
      ],
      "execution_count": null,
      "outputs": []
    },
    {
      "cell_type": "markdown",
      "metadata": {
        "id": "OQgRgyr7T8iy"
      },
      "source": [
        "Data Scaling"
      ]
    },
    {
      "cell_type": "code",
      "metadata": {
        "colab": {
          "base_uri": "https://localhost:8080/",
          "height": 237
        },
        "id": "VyV0fg_yT8iy",
        "outputId": "66033288-315d-43b1-b0db-df94aa9d1cc0"
      },
      "source": [
        "scaled_df1=minmax(Class9)\n",
        "#(xi–mean(x))/stdev(x)\n",
        "scaled_df1.head()"
      ],
      "execution_count": null,
      "outputs": [
        {
          "output_type": "execute_result",
          "data": {
            "text/html": [
              "<div>\n",
              "<style scoped>\n",
              "    .dataframe tbody tr th:only-of-type {\n",
              "        vertical-align: middle;\n",
              "    }\n",
              "\n",
              "    .dataframe tbody tr th {\n",
              "        vertical-align: top;\n",
              "    }\n",
              "\n",
              "    .dataframe thead th {\n",
              "        text-align: right;\n",
              "    }\n",
              "</style>\n",
              "<table border=\"1\" class=\"dataframe\">\n",
              "  <thead>\n",
              "    <tr style=\"text-align: right;\">\n",
              "      <th></th>\n",
              "      <th>HITS_SEQ_mean</th>\n",
              "      <th>TOT_SESS_HR_V_mean</th>\n",
              "      <th>CLNT_AGE_mean</th>\n",
              "      <th>naver_click</th>\n",
              "    </tr>\n",
              "    <tr>\n",
              "      <th>Date</th>\n",
              "      <th></th>\n",
              "      <th></th>\n",
              "      <th></th>\n",
              "      <th></th>\n",
              "    </tr>\n",
              "  </thead>\n",
              "  <tbody>\n",
              "    <tr>\n",
              "      <th>2020-04-01</th>\n",
              "      <td>0.560244</td>\n",
              "      <td>0.814391</td>\n",
              "      <td>0.369025</td>\n",
              "      <td>0.797101</td>\n",
              "    </tr>\n",
              "    <tr>\n",
              "      <th>2020-04-02</th>\n",
              "      <td>0.196711</td>\n",
              "      <td>0.378052</td>\n",
              "      <td>0.206432</td>\n",
              "      <td>0.637681</td>\n",
              "    </tr>\n",
              "    <tr>\n",
              "      <th>2020-04-03</th>\n",
              "      <td>0.272007</td>\n",
              "      <td>0.454928</td>\n",
              "      <td>0.318809</td>\n",
              "      <td>0.594203</td>\n",
              "    </tr>\n",
              "    <tr>\n",
              "      <th>2020-04-04</th>\n",
              "      <td>0.136125</td>\n",
              "      <td>0.206792</td>\n",
              "      <td>0.158267</td>\n",
              "      <td>0.536232</td>\n",
              "    </tr>\n",
              "    <tr>\n",
              "      <th>2020-04-05</th>\n",
              "      <td>0.167774</td>\n",
              "      <td>0.364689</td>\n",
              "      <td>0.605372</td>\n",
              "      <td>0.449275</td>\n",
              "    </tr>\n",
              "  </tbody>\n",
              "</table>\n",
              "</div>"
            ],
            "text/plain": [
              "            HITS_SEQ_mean  TOT_SESS_HR_V_mean  CLNT_AGE_mean  naver_click\n",
              "Date                                                                     \n",
              "2020-04-01       0.560244            0.814391       0.369025     0.797101\n",
              "2020-04-02       0.196711            0.378052       0.206432     0.637681\n",
              "2020-04-03       0.272007            0.454928       0.318809     0.594203\n",
              "2020-04-04       0.136125            0.206792       0.158267     0.536232\n",
              "2020-04-05       0.167774            0.364689       0.605372     0.449275"
            ]
          },
          "metadata": {
            "tags": []
          },
          "execution_count": 14
        }
      ]
    },
    {
      "cell_type": "code",
      "metadata": {
        "colab": {
          "base_uri": "https://localhost:8080/",
          "height": 237
        },
        "id": "6Gp8dzINT8iz",
        "outputId": "04bbf10c-67d3-44c8-e104-501364ec4e43"
      },
      "source": [
        "scaled_Y = minmax(Y)\n",
        "\n",
        "scaled_df1 = pd.concat([scaled_df1, scaled_Y], axis = 1)\n",
        "scaled_df1.rename(columns={'BUY_CT_sum':'Y'}, inplace=True)\n",
        "\n",
        "scaled_df1.head()"
      ],
      "execution_count": null,
      "outputs": [
        {
          "output_type": "execute_result",
          "data": {
            "text/html": [
              "<div>\n",
              "<style scoped>\n",
              "    .dataframe tbody tr th:only-of-type {\n",
              "        vertical-align: middle;\n",
              "    }\n",
              "\n",
              "    .dataframe tbody tr th {\n",
              "        vertical-align: top;\n",
              "    }\n",
              "\n",
              "    .dataframe thead th {\n",
              "        text-align: right;\n",
              "    }\n",
              "</style>\n",
              "<table border=\"1\" class=\"dataframe\">\n",
              "  <thead>\n",
              "    <tr style=\"text-align: right;\">\n",
              "      <th></th>\n",
              "      <th>HITS_SEQ_mean</th>\n",
              "      <th>TOT_SESS_HR_V_mean</th>\n",
              "      <th>CLNT_AGE_mean</th>\n",
              "      <th>naver_click</th>\n",
              "      <th>Y</th>\n",
              "    </tr>\n",
              "    <tr>\n",
              "      <th>Date</th>\n",
              "      <th></th>\n",
              "      <th></th>\n",
              "      <th></th>\n",
              "      <th></th>\n",
              "      <th></th>\n",
              "    </tr>\n",
              "  </thead>\n",
              "  <tbody>\n",
              "    <tr>\n",
              "      <th>2020-04-01</th>\n",
              "      <td>0.560244</td>\n",
              "      <td>0.814391</td>\n",
              "      <td>0.369025</td>\n",
              "      <td>0.797101</td>\n",
              "      <td>0.962820</td>\n",
              "    </tr>\n",
              "    <tr>\n",
              "      <th>2020-04-02</th>\n",
              "      <td>0.196711</td>\n",
              "      <td>0.378052</td>\n",
              "      <td>0.206432</td>\n",
              "      <td>0.637681</td>\n",
              "      <td>0.785900</td>\n",
              "    </tr>\n",
              "    <tr>\n",
              "      <th>2020-04-03</th>\n",
              "      <td>0.272007</td>\n",
              "      <td>0.454928</td>\n",
              "      <td>0.318809</td>\n",
              "      <td>0.594203</td>\n",
              "      <td>0.800671</td>\n",
              "    </tr>\n",
              "    <tr>\n",
              "      <th>2020-04-04</th>\n",
              "      <td>0.136125</td>\n",
              "      <td>0.206792</td>\n",
              "      <td>0.158267</td>\n",
              "      <td>0.536232</td>\n",
              "      <td>0.707595</td>\n",
              "    </tr>\n",
              "    <tr>\n",
              "      <th>2020-04-05</th>\n",
              "      <td>0.167774</td>\n",
              "      <td>0.364689</td>\n",
              "      <td>0.605372</td>\n",
              "      <td>0.449275</td>\n",
              "      <td>0.651700</td>\n",
              "    </tr>\n",
              "  </tbody>\n",
              "</table>\n",
              "</div>"
            ],
            "text/plain": [
              "            HITS_SEQ_mean  TOT_SESS_HR_V_mean  ...  naver_click         Y\n",
              "Date                                           ...                       \n",
              "2020-04-01       0.560244            0.814391  ...     0.797101  0.962820\n",
              "2020-04-02       0.196711            0.378052  ...     0.637681  0.785900\n",
              "2020-04-03       0.272007            0.454928  ...     0.594203  0.800671\n",
              "2020-04-04       0.136125            0.206792  ...     0.536232  0.707595\n",
              "2020-04-05       0.167774            0.364689  ...     0.449275  0.651700\n",
              "\n",
              "[5 rows x 5 columns]"
            ]
          },
          "metadata": {
            "tags": []
          },
          "execution_count": 15
        }
      ]
    },
    {
      "cell_type": "markdown",
      "metadata": {
        "id": "gARZJDuZT8i1"
      },
      "source": [
        "Modeling 함수 정의(Sequence 고려한 RNN-LSTM 모델)"
      ]
    },
    {
      "cell_type": "code",
      "metadata": {
        "id": "UJAFIkcbT8i1"
      },
      "source": [
        "from keras.models import Sequential\n",
        "from keras.layers import Dense\n",
        "from keras.layers import LSTM\n",
        "from keras.layers import Dropout"
      ],
      "execution_count": null,
      "outputs": []
    },
    {
      "cell_type": "code",
      "metadata": {
        "id": "WePbxPCcT8i2"
      },
      "source": [
        "def series_to_supervised(data, n_in=1, n_out=1, dropnan=True):\n",
        "    \n",
        "    n_vars = 1 if type(data) is list else data.shape[1]\n",
        "    df = pd.DataFrame(data)\n",
        "    cols, names = list(), list()\n",
        "    # input sequence (t-n, ... t-1)\n",
        "    for i in range(n_in, 0, -1):\n",
        "        cols.append(df.shift(i))\n",
        "        names += [('var%d(t-%d)' % (j+1, i)) for j in range(n_vars)]\n",
        "    \n",
        "    # forecast sequence (t, t+1, ... t+n)\n",
        "    for i in range(0, n_out):\n",
        "        cols.append(df.shift(-i))\n",
        "        if i == 0:\n",
        "            names += [('var%d(t)' % (j+1)) for j in range(n_vars)]\n",
        "        else:\n",
        "            names += [('var%d(t+%d)' % (j+1, i)) for j in range(n_vars)]\n",
        "    \n",
        "    # put it all together\n",
        "    agg = pd.concat(cols, axis=1)\n",
        "    agg.columns = names\n",
        "    # drop rows with NaN values\n",
        "    if dropnan:\n",
        "        agg.dropna(inplace=True)\n",
        "    return agg"
      ],
      "execution_count": null,
      "outputs": []
    },
    {
      "cell_type": "markdown",
      "metadata": {
        "id": "shBbuyMWgpAH"
      },
      "source": [
        "EDA(변수별 추세확인)"
      ]
    },
    {
      "cell_type": "code",
      "metadata": {
        "colab": {
          "base_uri": "https://localhost:8080/",
          "height": 376
        },
        "id": "WGSc80GLT8i2",
        "outputId": "9b52b5de-ca23-40d1-fe7d-6b100175e94b"
      },
      "source": [
        "#Plot of all variables\n",
        "values = scaled_df1.values\n",
        "# specify columns to plot\n",
        "groups = [0, 1, 2, 3, 4]\n",
        "i = 1\n",
        "# plot each column\n",
        "plt.figure(figsize=(15,6))\n",
        "for group in groups:\n",
        "    plt.subplot(len(groups), 1, i)\n",
        "    plt.plot(values[:, group])\n",
        "    plt.title(scaled_df1.columns[group], y=0.5, loc='right')\n",
        "    i += 1\n",
        "plt.show()"
      ],
      "execution_count": null,
      "outputs": [
        {
          "output_type": "display_data",
          "data": {
            "image/png": "[encoded data removed]",
            "text/plain": [
              "<Figure size 1080x432 with 5 Axes>"
            ]
          },
          "metadata": {
            "tags": [],
            "needs_background": "light"
          }
        }
      ]
    },
    {
      "cell_type": "code",
      "metadata": {
        "id": "laGIkoQST8i3"
      },
      "source": [
        "#scaled_data : scaling한 데이터. 사용하려는 변수 + 마지막 칼럼은 Y\n",
        "#n : 사용하는 변수 개수\n",
        "\n",
        "scaled_data = scaled_df1\n",
        "n = 4"
      ],
      "execution_count": null,
      "outputs": []
    },
    {
      "cell_type": "markdown",
      "metadata": {
        "id": "NKnTNMlnizro"
      },
      "source": [
        "Data 분할(Train set:Test set=8:2)\n"
      ]
    },
    {
      "cell_type": "code",
      "metadata": {
        "id": "fwfnHnofT8i4"
      },
      "source": [
        "scaled_Y = scaled_data['Y']\n",
        "\n",
        "values = scaled_df1.values\n",
        "# frame as supervised learning\n",
        "reframed = series_to_supervised(scaled_df1, 1, 1)\n",
        "reframed.drop(reframed.columns[-(n+1):-1], axis=1,inplace = True)\n",
        "\n",
        "# split into train and test sets\n",
        "values = reframed.values\n",
        "n_train = int(len(scaled_data)*0.8)\n",
        "train = values[:n_train, :]\n",
        "test = values[n_train:, :]\n",
        "# split into input and outputs\n",
        "train_X, train_y = train[:, :-1], train[:, -1]\n",
        "test_X, test_y = test[:, :-1], test[:, -1]\n",
        "# reshape input to be 3D [samples, timesteps, features]\n",
        "train_X = train_X.reshape((train_X.shape[0], 1, train_X.shape[1]))\n",
        "test_X = test_X.reshape((test_X.shape[0], 1, test_X.shape[1]))"
      ],
      "execution_count": null,
      "outputs": []
    },
    {
      "cell_type": "markdown",
      "metadata": {
        "id": "M4nUzf0NjVOJ"
      },
      "source": [
        "LSTM Modeling"
      ]
    },
    {
      "cell_type": "code",
      "metadata": {
        "colab": {
          "base_uri": "https://localhost:8080/"
        },
        "id": "mDPcOoXwT8i4",
        "outputId": "2324686d-eac3-47e9-9741-2b8ae3792ec9"
      },
      "source": [
        "# design network\n",
        "model = Sequential()\n",
        "model.add(LSTM(50, input_shape=(train_X.shape[1], train_X.shape[2])))\n",
        "model.add(Dense(1))\n",
        "model.add(Dropout(0.15))\n",
        "model.compile(loss='mse', optimizer='adam')\n",
        "# fit network\n",
        "history = model.fit(train_X, train_y, epochs=350, batch_size=50, validation_data=(test_X, test_y), verbose=2, shuffle=False)"
      ],
      "execution_count": null,
      "outputs": [
        {
          "output_type": "stream",
          "text": [
            "Epoch 1/350\n",
            "3/3 - 19s - loss: 0.3180 - val_loss: 0.0918\n",
            "Epoch 2/350\n",
            "3/3 - 0s - loss: 0.2916 - val_loss: 0.0783\n",
            "Epoch 3/350\n",
            "3/3 - 0s - loss: 0.2675 - val_loss: 0.0661\n",
            "Epoch 4/350\n",
            "3/3 - 0s - loss: 0.2379 - val_loss: 0.0551\n",
            "Epoch 5/350\n",
            "3/3 - 0s - loss: 0.2179 - val_loss: 0.0453\n",
            "Epoch 6/350\n",
            "3/3 - 0s - loss: 0.1848 - val_loss: 0.0367\n",
            "Epoch 7/350\n",
            "3/3 - 0s - loss: 0.1680 - val_loss: 0.0293\n",
            "Epoch 8/350\n",
            "3/3 - 0s - loss: 0.1627 - val_loss: 0.0234\n",
            "Epoch 9/350\n",
            "3/3 - 0s - loss: 0.1438 - val_loss: 0.0189\n",
            "Epoch 10/350\n",
            "3/3 - 0s - loss: 0.1314 - val_loss: 0.0158\n",
            "Epoch 11/350\n",
            "3/3 - 0s - loss: 0.1091 - val_loss: 0.0141\n",
            "Epoch 12/350\n",
            "3/3 - 0s - loss: 0.0974 - val_loss: 0.0136\n",
            "Epoch 13/350\n",
            "3/3 - 0s - loss: 0.0944 - val_loss: 0.0144\n",
            "Epoch 14/350\n",
            "3/3 - 0s - loss: 0.0824 - val_loss: 0.0163\n",
            "Epoch 15/350\n",
            "3/3 - 0s - loss: 0.0879 - val_loss: 0.0192\n",
            "Epoch 16/350\n",
            "3/3 - 0s - loss: 0.0795 - val_loss: 0.0227\n",
            "Epoch 17/350\n",
            "3/3 - 0s - loss: 0.0712 - val_loss: 0.0266\n",
            "Epoch 18/350\n",
            "3/3 - 0s - loss: 0.0724 - val_loss: 0.0307\n",
            "Epoch 19/350\n",
            "3/3 - 0s - loss: 0.0660 - val_loss: 0.0347\n",
            "Epoch 20/350\n",
            "3/3 - 0s - loss: 0.0537 - val_loss: 0.0383\n",
            "Epoch 21/350\n",
            "3/3 - 0s - loss: 0.0571 - val_loss: 0.0412\n",
            "Epoch 22/350\n",
            "3/3 - 0s - loss: 0.0651 - val_loss: 0.0435\n",
            "Epoch 23/350\n",
            "3/3 - 0s - loss: 0.0559 - val_loss: 0.0450\n",
            "Epoch 24/350\n",
            "3/3 - 0s - loss: 0.0599 - val_loss: 0.0458\n",
            "Epoch 25/350\n",
            "3/3 - 0s - loss: 0.0654 - val_loss: 0.0460\n",
            "Epoch 26/350\n",
            "3/3 - 0s - loss: 0.0555 - val_loss: 0.0456\n",
            "Epoch 27/350\n",
            "3/3 - 0s - loss: 0.0575 - val_loss: 0.0448\n",
            "Epoch 28/350\n",
            "3/3 - 0s - loss: 0.0578 - val_loss: 0.0439\n",
            "Epoch 29/350\n",
            "3/3 - 0s - loss: 0.0692 - val_loss: 0.0429\n",
            "Epoch 30/350\n",
            "3/3 - 0s - loss: 0.0562 - val_loss: 0.0418\n",
            "Epoch 31/350\n",
            "3/3 - 0s - loss: 0.0550 - val_loss: 0.0408\n",
            "Epoch 32/350\n",
            "3/3 - 0s - loss: 0.0753 - val_loss: 0.0400\n",
            "Epoch 33/350\n",
            "3/3 - 0s - loss: 0.0872 - val_loss: 0.0392\n",
            "Epoch 34/350\n",
            "3/3 - 0s - loss: 0.0585 - val_loss: 0.0385\n",
            "Epoch 35/350\n",
            "3/3 - 0s - loss: 0.0660 - val_loss: 0.0381\n",
            "Epoch 36/350\n",
            "3/3 - 0s - loss: 0.0641 - val_loss: 0.0378\n",
            "Epoch 37/350\n",
            "3/3 - 0s - loss: 0.0497 - val_loss: 0.0377\n",
            "Epoch 38/350\n",
            "3/3 - 0s - loss: 0.0626 - val_loss: 0.0377\n",
            "Epoch 39/350\n",
            "3/3 - 0s - loss: 0.0602 - val_loss: 0.0378\n",
            "Epoch 40/350\n",
            "3/3 - 0s - loss: 0.0612 - val_loss: 0.0379\n",
            "Epoch 41/350\n",
            "3/3 - 0s - loss: 0.0732 - val_loss: 0.0379\n",
            "Epoch 42/350\n",
            "3/3 - 0s - loss: 0.0745 - val_loss: 0.0377\n",
            "Epoch 43/350\n",
            "3/3 - 0s - loss: 0.0723 - val_loss: 0.0373\n",
            "Epoch 44/350\n",
            "3/3 - 0s - loss: 0.0775 - val_loss: 0.0368\n",
            "Epoch 45/350\n",
            "3/3 - 0s - loss: 0.0528 - val_loss: 0.0364\n",
            "Epoch 46/350\n",
            "3/3 - 0s - loss: 0.0559 - val_loss: 0.0362\n",
            "Epoch 47/350\n",
            "3/3 - 0s - loss: 0.0684 - val_loss: 0.0361\n",
            "Epoch 48/350\n",
            "3/3 - 0s - loss: 0.0520 - val_loss: 0.0360\n",
            "Epoch 49/350\n",
            "3/3 - 0s - loss: 0.0558 - val_loss: 0.0360\n",
            "Epoch 50/350\n",
            "3/3 - 0s - loss: 0.0735 - val_loss: 0.0359\n",
            "Epoch 51/350\n",
            "3/3 - 0s - loss: 0.0596 - val_loss: 0.0358\n",
            "Epoch 52/350\n",
            "3/3 - 0s - loss: 0.0682 - val_loss: 0.0355\n",
            "Epoch 53/350\n",
            "3/3 - 0s - loss: 0.0794 - val_loss: 0.0354\n",
            "Epoch 54/350\n",
            "3/3 - 0s - loss: 0.0645 - val_loss: 0.0353\n",
            "Epoch 55/350\n",
            "3/3 - 0s - loss: 0.0498 - val_loss: 0.0353\n",
            "Epoch 56/350\n",
            "3/3 - 0s - loss: 0.0715 - val_loss: 0.0352\n",
            "Epoch 57/350\n",
            "3/3 - 0s - loss: 0.0717 - val_loss: 0.0350\n",
            "Epoch 58/350\n",
            "3/3 - 0s - loss: 0.0631 - val_loss: 0.0347\n",
            "Epoch 59/350\n",
            "3/3 - 0s - loss: 0.0681 - val_loss: 0.0345\n",
            "Epoch 60/350\n",
            "3/3 - 0s - loss: 0.0631 - val_loss: 0.0345\n",
            "Epoch 61/350\n",
            "3/3 - 0s - loss: 0.0671 - val_loss: 0.0345\n",
            "Epoch 62/350\n",
            "3/3 - 0s - loss: 0.0523 - val_loss: 0.0345\n",
            "Epoch 63/350\n",
            "3/3 - 0s - loss: 0.0615 - val_loss: 0.0343\n",
            "Epoch 64/350\n",
            "3/3 - 0s - loss: 0.0500 - val_loss: 0.0342\n",
            "Epoch 65/350\n",
            "3/3 - 0s - loss: 0.0528 - val_loss: 0.0340\n",
            "Epoch 66/350\n",
            "3/3 - 0s - loss: 0.0641 - val_loss: 0.0339\n",
            "Epoch 67/350\n",
            "3/3 - 0s - loss: 0.0795 - val_loss: 0.0336\n",
            "Epoch 68/350\n",
            "3/3 - 0s - loss: 0.0575 - val_loss: 0.0332\n",
            "Epoch 69/350\n",
            "3/3 - 0s - loss: 0.0715 - val_loss: 0.0327\n",
            "Epoch 70/350\n",
            "3/3 - 0s - loss: 0.0616 - val_loss: 0.0322\n",
            "Epoch 71/350\n",
            "3/3 - 0s - loss: 0.0675 - val_loss: 0.0320\n",
            "Epoch 72/350\n",
            "3/3 - 0s - loss: 0.0674 - val_loss: 0.0319\n",
            "Epoch 73/350\n",
            "3/3 - 0s - loss: 0.0672 - val_loss: 0.0318\n",
            "Epoch 74/350\n",
            "3/3 - 0s - loss: 0.0769 - val_loss: 0.0317\n",
            "Epoch 75/350\n",
            "3/3 - 0s - loss: 0.0735 - val_loss: 0.0316\n",
            "Epoch 76/350\n",
            "3/3 - 0s - loss: 0.0578 - val_loss: 0.0315\n",
            "Epoch 77/350\n",
            "3/3 - 0s - loss: 0.0561 - val_loss: 0.0313\n",
            "Epoch 78/350\n",
            "3/3 - 0s - loss: 0.0719 - val_loss: 0.0312\n",
            "Epoch 79/350\n",
            "3/3 - 0s - loss: 0.0680 - val_loss: 0.0313\n",
            "Epoch 80/350\n",
            "3/3 - 0s - loss: 0.0802 - val_loss: 0.0313\n",
            "Epoch 81/350\n",
            "3/3 - 0s - loss: 0.0574 - val_loss: 0.0313\n",
            "Epoch 82/350\n",
            "3/3 - 0s - loss: 0.0700 - val_loss: 0.0312\n",
            "Epoch 83/350\n",
            "3/3 - 0s - loss: 0.0600 - val_loss: 0.0312\n",
            "Epoch 84/350\n",
            "3/3 - 0s - loss: 0.0630 - val_loss: 0.0311\n",
            "Epoch 85/350\n",
            "3/3 - 0s - loss: 0.0625 - val_loss: 0.0308\n",
            "Epoch 86/350\n",
            "3/3 - 0s - loss: 0.0612 - val_loss: 0.0303\n",
            "Epoch 87/350\n",
            "3/3 - 0s - loss: 0.0678 - val_loss: 0.0300\n",
            "Epoch 88/350\n",
            "3/3 - 0s - loss: 0.0490 - val_loss: 0.0299\n",
            "Epoch 89/350\n",
            "3/3 - 0s - loss: 0.0579 - val_loss: 0.0298\n",
            "Epoch 90/350\n",
            "3/3 - 0s - loss: 0.0468 - val_loss: 0.0298\n",
            "Epoch 91/350\n",
            "3/3 - 0s - loss: 0.0515 - val_loss: 0.0297\n",
            "Epoch 92/350\n",
            "3/3 - 0s - loss: 0.0505 - val_loss: 0.0296\n",
            "Epoch 93/350\n",
            "3/3 - 0s - loss: 0.0487 - val_loss: 0.0295\n",
            "Epoch 94/350\n",
            "3/3 - 0s - loss: 0.0670 - val_loss: 0.0293\n",
            "Epoch 95/350\n",
            "3/3 - 0s - loss: 0.0625 - val_loss: 0.0293\n",
            "Epoch 96/350\n",
            "3/3 - 0s - loss: 0.0502 - val_loss: 0.0292\n",
            "Epoch 97/350\n",
            "3/3 - 0s - loss: 0.0590 - val_loss: 0.0291\n",
            "Epoch 98/350\n",
            "3/3 - 0s - loss: 0.0789 - val_loss: 0.0289\n",
            "Epoch 99/350\n",
            "3/3 - 0s - loss: 0.0564 - val_loss: 0.0287\n",
            "Epoch 100/350\n",
            "3/3 - 0s - loss: 0.0766 - val_loss: 0.0287\n",
            "Epoch 101/350\n",
            "3/3 - 0s - loss: 0.0567 - val_loss: 0.0287\n",
            "Epoch 102/350\n",
            "3/3 - 0s - loss: 0.0633 - val_loss: 0.0286\n",
            "Epoch 103/350\n",
            "3/3 - 0s - loss: 0.0512 - val_loss: 0.0287\n",
            "Epoch 104/350\n",
            "3/3 - 0s - loss: 0.0654 - val_loss: 0.0287\n",
            "Epoch 105/350\n",
            "3/3 - 0s - loss: 0.0735 - val_loss: 0.0288\n",
            "Epoch 106/350\n",
            "3/3 - 0s - loss: 0.0439 - val_loss: 0.0287\n",
            "Epoch 107/350\n",
            "3/3 - 0s - loss: 0.0589 - val_loss: 0.0286\n",
            "Epoch 108/350\n",
            "3/3 - 0s - loss: 0.0652 - val_loss: 0.0285\n",
            "Epoch 109/350\n",
            "3/3 - 0s - loss: 0.0616 - val_loss: 0.0280\n",
            "Epoch 110/350\n",
            "3/3 - 0s - loss: 0.0635 - val_loss: 0.0277\n",
            "Epoch 111/350\n",
            "3/3 - 0s - loss: 0.0584 - val_loss: 0.0273\n",
            "Epoch 112/350\n",
            "3/3 - 0s - loss: 0.0655 - val_loss: 0.0269\n",
            "Epoch 113/350\n",
            "3/3 - 0s - loss: 0.0798 - val_loss: 0.0266\n",
            "Epoch 114/350\n",
            "3/3 - 0s - loss: 0.0603 - val_loss: 0.0264\n",
            "Epoch 115/350\n",
            "3/3 - 0s - loss: 0.0505 - val_loss: 0.0263\n",
            "Epoch 116/350\n",
            "3/3 - 0s - loss: 0.0676 - val_loss: 0.0261\n",
            "Epoch 117/350\n",
            "3/3 - 0s - loss: 0.0593 - val_loss: 0.0262\n",
            "Epoch 118/350\n",
            "3/3 - 0s - loss: 0.0635 - val_loss: 0.0264\n",
            "Epoch 119/350\n",
            "3/3 - 0s - loss: 0.0619 - val_loss: 0.0267\n",
            "Epoch 120/350\n",
            "3/3 - 0s - loss: 0.0498 - val_loss: 0.0268\n",
            "Epoch 121/350\n",
            "3/3 - 0s - loss: 0.0633 - val_loss: 0.0268\n",
            "Epoch 122/350\n",
            "3/3 - 0s - loss: 0.0668 - val_loss: 0.0267\n",
            "Epoch 123/350\n",
            "3/3 - 0s - loss: 0.0587 - val_loss: 0.0264\n",
            "Epoch 124/350\n",
            "3/3 - 0s - loss: 0.0730 - val_loss: 0.0260\n",
            "Epoch 125/350\n",
            "3/3 - 0s - loss: 0.0645 - val_loss: 0.0256\n",
            "Epoch 126/350\n",
            "3/3 - 0s - loss: 0.0623 - val_loss: 0.0253\n",
            "Epoch 127/350\n",
            "3/3 - 0s - loss: 0.0642 - val_loss: 0.0250\n",
            "Epoch 128/350\n",
            "3/3 - 0s - loss: 0.0779 - val_loss: 0.0246\n",
            "Epoch 129/350\n",
            "3/3 - 0s - loss: 0.0763 - val_loss: 0.0244\n",
            "Epoch 130/350\n",
            "3/3 - 0s - loss: 0.0795 - val_loss: 0.0241\n",
            "Epoch 131/350\n",
            "3/3 - 0s - loss: 0.0396 - val_loss: 0.0240\n",
            "Epoch 132/350\n",
            "3/3 - 0s - loss: 0.0723 - val_loss: 0.0239\n",
            "Epoch 133/350\n",
            "3/3 - 0s - loss: 0.0989 - val_loss: 0.0237\n",
            "Epoch 134/350\n",
            "3/3 - 0s - loss: 0.0510 - val_loss: 0.0236\n",
            "Epoch 135/350\n",
            "3/3 - 0s - loss: 0.0488 - val_loss: 0.0236\n",
            "Epoch 136/350\n",
            "3/3 - 0s - loss: 0.0471 - val_loss: 0.0238\n",
            "Epoch 137/350\n",
            "3/3 - 0s - loss: 0.0666 - val_loss: 0.0240\n",
            "Epoch 138/350\n",
            "3/3 - 0s - loss: 0.0645 - val_loss: 0.0240\n",
            "Epoch 139/350\n",
            "3/3 - 0s - loss: 0.0490 - val_loss: 0.0241\n",
            "Epoch 140/350\n",
            "3/3 - 0s - loss: 0.0758 - val_loss: 0.0242\n",
            "Epoch 141/350\n",
            "3/3 - 0s - loss: 0.0896 - val_loss: 0.0241\n",
            "Epoch 142/350\n",
            "3/3 - 0s - loss: 0.0664 - val_loss: 0.0242\n",
            "Epoch 143/350\n",
            "3/3 - 0s - loss: 0.0470 - val_loss: 0.0241\n",
            "Epoch 144/350\n",
            "3/3 - 0s - loss: 0.0624 - val_loss: 0.0242\n",
            "Epoch 145/350\n",
            "3/3 - 0s - loss: 0.0511 - val_loss: 0.0240\n",
            "Epoch 146/350\n",
            "3/3 - 0s - loss: 0.0498 - val_loss: 0.0239\n",
            "Epoch 147/350\n",
            "3/3 - 0s - loss: 0.0743 - val_loss: 0.0237\n",
            "Epoch 148/350\n",
            "3/3 - 0s - loss: 0.0775 - val_loss: 0.0235\n",
            "Epoch 149/350\n",
            "3/3 - 0s - loss: 0.0798 - val_loss: 0.0233\n",
            "Epoch 150/350\n",
            "3/3 - 0s - loss: 0.0596 - val_loss: 0.0231\n",
            "Epoch 151/350\n",
            "3/3 - 0s - loss: 0.0608 - val_loss: 0.0231\n",
            "Epoch 152/350\n",
            "3/3 - 0s - loss: 0.0538 - val_loss: 0.0232\n",
            "Epoch 153/350\n",
            "3/3 - 0s - loss: 0.0675 - val_loss: 0.0232\n",
            "Epoch 154/350\n",
            "3/3 - 0s - loss: 0.0515 - val_loss: 0.0233\n",
            "Epoch 155/350\n",
            "3/3 - 0s - loss: 0.0472 - val_loss: 0.0234\n",
            "Epoch 156/350\n",
            "3/3 - 0s - loss: 0.0664 - val_loss: 0.0235\n",
            "Epoch 157/350\n",
            "3/3 - 0s - loss: 0.0561 - val_loss: 0.0236\n",
            "Epoch 158/350\n",
            "3/3 - 0s - loss: 0.0614 - val_loss: 0.0236\n",
            "Epoch 159/350\n",
            "3/3 - 0s - loss: 0.0437 - val_loss: 0.0235\n",
            "Epoch 160/350\n",
            "3/3 - 0s - loss: 0.0503 - val_loss: 0.0232\n",
            "Epoch 161/350\n",
            "3/3 - 0s - loss: 0.0590 - val_loss: 0.0230\n",
            "Epoch 162/350\n",
            "3/3 - 0s - loss: 0.0641 - val_loss: 0.0226\n",
            "Epoch 163/350\n",
            "3/3 - 0s - loss: 0.0514 - val_loss: 0.0224\n",
            "Epoch 164/350\n",
            "3/3 - 0s - loss: 0.0479 - val_loss: 0.0224\n",
            "Epoch 165/350\n",
            "3/3 - 0s - loss: 0.0607 - val_loss: 0.0222\n",
            "Epoch 166/350\n",
            "3/3 - 0s - loss: 0.0637 - val_loss: 0.0219\n",
            "Epoch 167/350\n",
            "3/3 - 0s - loss: 0.0676 - val_loss: 0.0217\n",
            "Epoch 168/350\n",
            "3/3 - 0s - loss: 0.0695 - val_loss: 0.0217\n",
            "Epoch 169/350\n",
            "3/3 - 0s - loss: 0.0668 - val_loss: 0.0217\n",
            "Epoch 170/350\n",
            "3/3 - 0s - loss: 0.0718 - val_loss: 0.0218\n",
            "Epoch 171/350\n",
            "3/3 - 0s - loss: 0.0477 - val_loss: 0.0217\n",
            "Epoch 172/350\n",
            "3/3 - 0s - loss: 0.0620 - val_loss: 0.0216\n",
            "Epoch 173/350\n",
            "3/3 - 0s - loss: 0.0461 - val_loss: 0.0218\n",
            "Epoch 174/350\n",
            "3/3 - 0s - loss: 0.0462 - val_loss: 0.0219\n",
            "Epoch 175/350\n",
            "3/3 - 0s - loss: 0.0578 - val_loss: 0.0217\n",
            "Epoch 176/350\n",
            "3/3 - 0s - loss: 0.0653 - val_loss: 0.0216\n",
            "Epoch 177/350\n",
            "3/3 - 0s - loss: 0.0524 - val_loss: 0.0215\n",
            "Epoch 178/350\n",
            "3/3 - 0s - loss: 0.0555 - val_loss: 0.0216\n",
            "Epoch 179/350\n",
            "3/3 - 0s - loss: 0.0484 - val_loss: 0.0218\n",
            "Epoch 180/350\n",
            "3/3 - 0s - loss: 0.0475 - val_loss: 0.0217\n",
            "Epoch 181/350\n",
            "3/3 - 0s - loss: 0.0610 - val_loss: 0.0218\n",
            "Epoch 182/350\n",
            "3/3 - 0s - loss: 0.0529 - val_loss: 0.0218\n",
            "Epoch 183/350\n",
            "3/3 - 0s - loss: 0.0802 - val_loss: 0.0217\n",
            "Epoch 184/350\n",
            "3/3 - 0s - loss: 0.0490 - val_loss: 0.0215\n",
            "Epoch 185/350\n",
            "3/3 - 0s - loss: 0.0721 - val_loss: 0.0208\n",
            "Epoch 186/350\n",
            "3/3 - 0s - loss: 0.0709 - val_loss: 0.0203\n",
            "Epoch 187/350\n",
            "3/3 - 0s - loss: 0.0732 - val_loss: 0.0199\n",
            "Epoch 188/350\n",
            "3/3 - 0s - loss: 0.0395 - val_loss: 0.0198\n",
            "Epoch 189/350\n",
            "3/3 - 0s - loss: 0.0685 - val_loss: 0.0199\n",
            "Epoch 190/350\n",
            "3/3 - 0s - loss: 0.0530 - val_loss: 0.0202\n",
            "Epoch 191/350\n",
            "3/3 - 0s - loss: 0.0661 - val_loss: 0.0205\n",
            "Epoch 192/350\n",
            "3/3 - 0s - loss: 0.0658 - val_loss: 0.0207\n",
            "Epoch 193/350\n",
            "3/3 - 0s - loss: 0.0761 - val_loss: 0.0210\n",
            "Epoch 194/350\n",
            "3/3 - 0s - loss: 0.0451 - val_loss: 0.0213\n",
            "Epoch 195/350\n",
            "3/3 - 0s - loss: 0.0530 - val_loss: 0.0215\n",
            "Epoch 196/350\n",
            "3/3 - 0s - loss: 0.0491 - val_loss: 0.0216\n",
            "Epoch 197/350\n",
            "3/3 - 0s - loss: 0.0612 - val_loss: 0.0214\n",
            "Epoch 198/350\n",
            "3/3 - 0s - loss: 0.0407 - val_loss: 0.0211\n",
            "Epoch 199/350\n",
            "3/3 - 0s - loss: 0.0629 - val_loss: 0.0206\n",
            "Epoch 200/350\n",
            "3/3 - 0s - loss: 0.0509 - val_loss: 0.0201\n",
            "Epoch 201/350\n",
            "3/3 - 0s - loss: 0.0730 - val_loss: 0.0196\n",
            "Epoch 202/350\n",
            "3/3 - 0s - loss: 0.0521 - val_loss: 0.0195\n",
            "Epoch 203/350\n",
            "3/3 - 0s - loss: 0.0423 - val_loss: 0.0196\n",
            "Epoch 204/350\n",
            "3/3 - 0s - loss: 0.0542 - val_loss: 0.0198\n",
            "Epoch 205/350\n",
            "3/3 - 0s - loss: 0.0629 - val_loss: 0.0200\n",
            "Epoch 206/350\n",
            "3/3 - 0s - loss: 0.0676 - val_loss: 0.0200\n",
            "Epoch 207/350\n",
            "3/3 - 0s - loss: 0.0513 - val_loss: 0.0198\n",
            "Epoch 208/350\n",
            "3/3 - 0s - loss: 0.0638 - val_loss: 0.0197\n",
            "Epoch 209/350\n",
            "3/3 - 0s - loss: 0.0539 - val_loss: 0.0194\n",
            "Epoch 210/350\n",
            "3/3 - 0s - loss: 0.0551 - val_loss: 0.0191\n",
            "Epoch 211/350\n",
            "3/3 - 0s - loss: 0.0596 - val_loss: 0.0190\n",
            "Epoch 212/350\n",
            "3/3 - 0s - loss: 0.0612 - val_loss: 0.0190\n",
            "Epoch 213/350\n",
            "3/3 - 0s - loss: 0.0571 - val_loss: 0.0192\n",
            "Epoch 214/350\n",
            "3/3 - 0s - loss: 0.0651 - val_loss: 0.0194\n",
            "Epoch 215/350\n",
            "3/3 - 0s - loss: 0.0600 - val_loss: 0.0196\n",
            "Epoch 216/350\n",
            "3/3 - 0s - loss: 0.0652 - val_loss: 0.0195\n",
            "Epoch 217/350\n",
            "3/3 - 0s - loss: 0.0622 - val_loss: 0.0194\n",
            "Epoch 218/350\n",
            "3/3 - 0s - loss: 0.0535 - val_loss: 0.0193\n",
            "Epoch 219/350\n",
            "3/3 - 0s - loss: 0.0575 - val_loss: 0.0191\n",
            "Epoch 220/350\n",
            "3/3 - 0s - loss: 0.0541 - val_loss: 0.0190\n",
            "Epoch 221/350\n",
            "3/3 - 0s - loss: 0.0702 - val_loss: 0.0188\n",
            "Epoch 222/350\n",
            "3/3 - 0s - loss: 0.0598 - val_loss: 0.0185\n",
            "Epoch 223/350\n",
            "3/3 - 0s - loss: 0.0709 - val_loss: 0.0183\n",
            "Epoch 224/350\n",
            "3/3 - 0s - loss: 0.0748 - val_loss: 0.0180\n",
            "Epoch 225/350\n",
            "3/3 - 0s - loss: 0.0460 - val_loss: 0.0179\n",
            "Epoch 226/350\n",
            "3/3 - 0s - loss: 0.0406 - val_loss: 0.0179\n",
            "Epoch 227/350\n",
            "3/3 - 0s - loss: 0.0625 - val_loss: 0.0181\n",
            "Epoch 228/350\n",
            "3/3 - 0s - loss: 0.0813 - val_loss: 0.0184\n",
            "Epoch 229/350\n",
            "3/3 - 0s - loss: 0.0594 - val_loss: 0.0185\n",
            "Epoch 230/350\n",
            "3/3 - 0s - loss: 0.0535 - val_loss: 0.0185\n",
            "Epoch 231/350\n",
            "3/3 - 0s - loss: 0.0786 - val_loss: 0.0185\n",
            "Epoch 232/350\n",
            "3/3 - 0s - loss: 0.0640 - val_loss: 0.0185\n",
            "Epoch 233/350\n",
            "3/3 - 0s - loss: 0.0635 - val_loss: 0.0186\n",
            "Epoch 234/350\n",
            "3/3 - 0s - loss: 0.0574 - val_loss: 0.0187\n",
            "Epoch 235/350\n",
            "3/3 - 0s - loss: 0.0520 - val_loss: 0.0188\n",
            "Epoch 236/350\n",
            "3/3 - 0s - loss: 0.0576 - val_loss: 0.0188\n",
            "Epoch 237/350\n",
            "3/3 - 0s - loss: 0.0465 - val_loss: 0.0188\n",
            "Epoch 238/350\n",
            "3/3 - 0s - loss: 0.0617 - val_loss: 0.0186\n",
            "Epoch 239/350\n",
            "3/3 - 0s - loss: 0.0702 - val_loss: 0.0181\n",
            "Epoch 240/350\n",
            "3/3 - 0s - loss: 0.0665 - val_loss: 0.0175\n",
            "Epoch 241/350\n",
            "3/3 - 0s - loss: 0.0842 - val_loss: 0.0170\n",
            "Epoch 242/350\n",
            "3/3 - 0s - loss: 0.0410 - val_loss: 0.0168\n",
            "Epoch 243/350\n",
            "3/3 - 0s - loss: 0.0481 - val_loss: 0.0168\n",
            "Epoch 244/350\n",
            "3/3 - 0s - loss: 0.0607 - val_loss: 0.0170\n",
            "Epoch 245/350\n",
            "3/3 - 0s - loss: 0.0639 - val_loss: 0.0172\n",
            "Epoch 246/350\n",
            "3/3 - 0s - loss: 0.0471 - val_loss: 0.0176\n",
            "Epoch 247/350\n",
            "3/3 - 0s - loss: 0.0492 - val_loss: 0.0177\n",
            "Epoch 248/350\n",
            "3/3 - 0s - loss: 0.0768 - val_loss: 0.0177\n",
            "Epoch 249/350\n",
            "3/3 - 0s - loss: 0.0565 - val_loss: 0.0177\n",
            "Epoch 250/350\n",
            "3/3 - 0s - loss: 0.0539 - val_loss: 0.0175\n",
            "Epoch 251/350\n",
            "3/3 - 0s - loss: 0.0627 - val_loss: 0.0172\n",
            "Epoch 252/350\n",
            "3/3 - 0s - loss: 0.0508 - val_loss: 0.0170\n",
            "Epoch 253/350\n",
            "3/3 - 0s - loss: 0.0520 - val_loss: 0.0169\n",
            "Epoch 254/350\n",
            "3/3 - 0s - loss: 0.0745 - val_loss: 0.0170\n",
            "Epoch 255/350\n",
            "3/3 - 0s - loss: 0.0693 - val_loss: 0.0170\n",
            "Epoch 256/350\n",
            "3/3 - 0s - loss: 0.0557 - val_loss: 0.0169\n",
            "Epoch 257/350\n",
            "3/3 - 0s - loss: 0.0856 - val_loss: 0.0168\n",
            "Epoch 258/350\n",
            "3/3 - 0s - loss: 0.0527 - val_loss: 0.0165\n",
            "Epoch 259/350\n",
            "3/3 - 0s - loss: 0.0615 - val_loss: 0.0162\n",
            "Epoch 260/350\n",
            "3/3 - 0s - loss: 0.0583 - val_loss: 0.0162\n",
            "Epoch 261/350\n",
            "3/3 - 0s - loss: 0.0512 - val_loss: 0.0165\n",
            "Epoch 262/350\n",
            "3/3 - 0s - loss: 0.0420 - val_loss: 0.0169\n",
            "Epoch 263/350\n",
            "3/3 - 0s - loss: 0.0515 - val_loss: 0.0172\n",
            "Epoch 264/350\n",
            "3/3 - 0s - loss: 0.0570 - val_loss: 0.0174\n",
            "Epoch 265/350\n",
            "3/3 - 0s - loss: 0.0543 - val_loss: 0.0174\n",
            "Epoch 266/350\n",
            "3/3 - 0s - loss: 0.0371 - val_loss: 0.0172\n",
            "Epoch 267/350\n",
            "3/3 - 0s - loss: 0.0779 - val_loss: 0.0168\n",
            "Epoch 268/350\n",
            "3/3 - 0s - loss: 0.0603 - val_loss: 0.0163\n",
            "Epoch 269/350\n",
            "3/3 - 0s - loss: 0.0539 - val_loss: 0.0159\n",
            "Epoch 270/350\n",
            "3/3 - 0s - loss: 0.0757 - val_loss: 0.0157\n",
            "Epoch 271/350\n",
            "3/3 - 0s - loss: 0.0674 - val_loss: 0.0157\n",
            "Epoch 272/350\n",
            "3/3 - 0s - loss: 0.0562 - val_loss: 0.0160\n",
            "Epoch 273/350\n",
            "3/3 - 0s - loss: 0.0682 - val_loss: 0.0164\n",
            "Epoch 274/350\n",
            "3/3 - 0s - loss: 0.0776 - val_loss: 0.0164\n",
            "Epoch 275/350\n",
            "3/3 - 0s - loss: 0.0669 - val_loss: 0.0166\n",
            "Epoch 276/350\n",
            "3/3 - 0s - loss: 0.0435 - val_loss: 0.0167\n",
            "Epoch 277/350\n",
            "3/3 - 0s - loss: 0.0820 - val_loss: 0.0166\n",
            "Epoch 278/350\n",
            "3/3 - 0s - loss: 0.0550 - val_loss: 0.0164\n",
            "Epoch 279/350\n",
            "3/3 - 0s - loss: 0.0711 - val_loss: 0.0163\n",
            "Epoch 280/350\n",
            "3/3 - 0s - loss: 0.0752 - val_loss: 0.0161\n",
            "Epoch 281/350\n",
            "3/3 - 0s - loss: 0.0670 - val_loss: 0.0160\n",
            "Epoch 282/350\n",
            "3/3 - 0s - loss: 0.0493 - val_loss: 0.0161\n",
            "Epoch 283/350\n",
            "3/3 - 0s - loss: 0.0572 - val_loss: 0.0162\n",
            "Epoch 284/350\n",
            "3/3 - 0s - loss: 0.0833 - val_loss: 0.0161\n",
            "Epoch 285/350\n",
            "3/3 - 0s - loss: 0.0693 - val_loss: 0.0158\n",
            "Epoch 286/350\n",
            "3/3 - 0s - loss: 0.0576 - val_loss: 0.0155\n",
            "Epoch 287/350\n",
            "3/3 - 0s - loss: 0.0680 - val_loss: 0.0151\n",
            "Epoch 288/350\n",
            "3/3 - 0s - loss: 0.0537 - val_loss: 0.0150\n",
            "Epoch 289/350\n",
            "3/3 - 0s - loss: 0.0648 - val_loss: 0.0150\n",
            "Epoch 290/350\n",
            "3/3 - 0s - loss: 0.0802 - val_loss: 0.0150\n",
            "Epoch 291/350\n",
            "3/3 - 0s - loss: 0.0791 - val_loss: 0.0153\n",
            "Epoch 292/350\n",
            "3/3 - 0s - loss: 0.0675 - val_loss: 0.0157\n",
            "Epoch 293/350\n",
            "3/3 - 0s - loss: 0.0601 - val_loss: 0.0158\n",
            "Epoch 294/350\n",
            "3/3 - 0s - loss: 0.0623 - val_loss: 0.0158\n",
            "Epoch 295/350\n",
            "3/3 - 0s - loss: 0.0626 - val_loss: 0.0156\n",
            "Epoch 296/350\n",
            "3/3 - 0s - loss: 0.0791 - val_loss: 0.0156\n",
            "Epoch 297/350\n",
            "3/3 - 0s - loss: 0.0451 - val_loss: 0.0156\n",
            "Epoch 298/350\n",
            "3/3 - 0s - loss: 0.0740 - val_loss: 0.0154\n",
            "Epoch 299/350\n",
            "3/3 - 0s - loss: 0.0650 - val_loss: 0.0152\n",
            "Epoch 300/350\n",
            "3/3 - 0s - loss: 0.0447 - val_loss: 0.0151\n",
            "Epoch 301/350\n",
            "3/3 - 0s - loss: 0.0472 - val_loss: 0.0150\n",
            "Epoch 302/350\n",
            "3/3 - 0s - loss: 0.0721 - val_loss: 0.0148\n",
            "Epoch 303/350\n",
            "3/3 - 0s - loss: 0.0487 - val_loss: 0.0148\n",
            "Epoch 304/350\n",
            "3/3 - 0s - loss: 0.0523 - val_loss: 0.0149\n",
            "Epoch 305/350\n",
            "3/3 - 0s - loss: 0.0453 - val_loss: 0.0151\n",
            "Epoch 306/350\n",
            "3/3 - 0s - loss: 0.0565 - val_loss: 0.0152\n",
            "Epoch 307/350\n",
            "3/3 - 0s - loss: 0.0517 - val_loss: 0.0152\n",
            "Epoch 308/350\n",
            "3/3 - 0s - loss: 0.0423 - val_loss: 0.0152\n",
            "Epoch 309/350\n",
            "3/3 - 0s - loss: 0.0565 - val_loss: 0.0152\n",
            "Epoch 310/350\n",
            "3/3 - 0s - loss: 0.0622 - val_loss: 0.0152\n",
            "Epoch 311/350\n",
            "3/3 - 0s - loss: 0.0642 - val_loss: 0.0151\n",
            "Epoch 312/350\n",
            "3/3 - 0s - loss: 0.0571 - val_loss: 0.0152\n",
            "Epoch 313/350\n",
            "3/3 - 0s - loss: 0.0616 - val_loss: 0.0153\n",
            "Epoch 314/350\n",
            "3/3 - 0s - loss: 0.0448 - val_loss: 0.0152\n",
            "Epoch 315/350\n",
            "3/3 - 0s - loss: 0.0558 - val_loss: 0.0152\n",
            "Epoch 316/350\n",
            "3/3 - 0s - loss: 0.0654 - val_loss: 0.0153\n",
            "Epoch 317/350\n",
            "3/3 - 0s - loss: 0.0584 - val_loss: 0.0155\n",
            "Epoch 318/350\n",
            "3/3 - 0s - loss: 0.0480 - val_loss: 0.0156\n",
            "Epoch 319/350\n",
            "3/3 - 0s - loss: 0.0558 - val_loss: 0.0155\n",
            "Epoch 320/350\n",
            "3/3 - 0s - loss: 0.0850 - val_loss: 0.0150\n",
            "Epoch 321/350\n",
            "3/3 - 0s - loss: 0.0475 - val_loss: 0.0147\n",
            "Epoch 322/350\n",
            "3/3 - 0s - loss: 0.0836 - val_loss: 0.0143\n",
            "Epoch 323/350\n",
            "3/3 - 0s - loss: 0.0395 - val_loss: 0.0140\n",
            "Epoch 324/350\n",
            "3/3 - 0s - loss: 0.0625 - val_loss: 0.0139\n",
            "Epoch 325/350\n",
            "3/3 - 0s - loss: 0.0410 - val_loss: 0.0142\n",
            "Epoch 326/350\n",
            "3/3 - 0s - loss: 0.0712 - val_loss: 0.0143\n",
            "Epoch 327/350\n",
            "3/3 - 0s - loss: 0.0527 - val_loss: 0.0143\n",
            "Epoch 328/350\n",
            "3/3 - 0s - loss: 0.0720 - val_loss: 0.0144\n",
            "Epoch 329/350\n",
            "3/3 - 0s - loss: 0.0643 - val_loss: 0.0146\n",
            "Epoch 330/350\n",
            "3/3 - 0s - loss: 0.0453 - val_loss: 0.0150\n",
            "Epoch 331/350\n",
            "3/3 - 0s - loss: 0.0464 - val_loss: 0.0153\n",
            "Epoch 332/350\n",
            "3/3 - 0s - loss: 0.0727 - val_loss: 0.0153\n",
            "Epoch 333/350\n",
            "3/3 - 0s - loss: 0.0511 - val_loss: 0.0151\n",
            "Epoch 334/350\n",
            "3/3 - 0s - loss: 0.0658 - val_loss: 0.0146\n",
            "Epoch 335/350\n",
            "3/3 - 0s - loss: 0.0531 - val_loss: 0.0141\n",
            "Epoch 336/350\n",
            "3/3 - 0s - loss: 0.0546 - val_loss: 0.0139\n",
            "Epoch 337/350\n",
            "3/3 - 0s - loss: 0.0489 - val_loss: 0.0138\n",
            "Epoch 338/350\n",
            "3/3 - 0s - loss: 0.0399 - val_loss: 0.0139\n",
            "Epoch 339/350\n",
            "3/3 - 0s - loss: 0.0479 - val_loss: 0.0140\n",
            "Epoch 340/350\n",
            "3/3 - 0s - loss: 0.0711 - val_loss: 0.0141\n",
            "Epoch 341/350\n",
            "3/3 - 0s - loss: 0.0645 - val_loss: 0.0141\n",
            "Epoch 342/350\n",
            "3/3 - 0s - loss: 0.0451 - val_loss: 0.0142\n",
            "Epoch 343/350\n",
            "3/3 - 0s - loss: 0.0624 - val_loss: 0.0142\n",
            "Epoch 344/350\n",
            "3/3 - 0s - loss: 0.0413 - val_loss: 0.0143\n",
            "Epoch 345/350\n",
            "3/3 - 0s - loss: 0.0815 - val_loss: 0.0142\n",
            "Epoch 346/350\n",
            "3/3 - 0s - loss: 0.0611 - val_loss: 0.0140\n",
            "Epoch 347/350\n",
            "3/3 - 0s - loss: 0.0511 - val_loss: 0.0137\n",
            "Epoch 348/350\n",
            "3/3 - 0s - loss: 0.0706 - val_loss: 0.0134\n",
            "Epoch 349/350\n",
            "3/3 - 0s - loss: 0.0460 - val_loss: 0.0133\n",
            "Epoch 350/350\n",
            "3/3 - 0s - loss: 0.0544 - val_loss: 0.0133\n"
          ],
          "name": "stdout"
        }
      ]
    },
    {
      "cell_type": "markdown",
      "metadata": {
        "id": "EQuBDUx5kUfz"
      },
      "source": [
        "loss 비교 그래프"
      ]
    },
    {
      "cell_type": "code",
      "metadata": {
        "scrolled": false,
        "colab": {
          "base_uri": "https://localhost:8080/",
          "height": 265
        },
        "id": "Xo_szGXOT8i5",
        "outputId": "fe5db386-eeae-42f8-e12c-a8c935e84a7d"
      },
      "source": [
        "# plot history\n",
        "plt.plot(history.history['loss'], label='train')\n",
        "plt.plot(history.history['val_loss'], label='test')\n",
        "plt.legend()\n",
        "plt.show()"
      ],
      "execution_count": null,
      "outputs": [
        {
          "output_type": "display_data",
          "data": {
            "image/png": "[encoded data removed]",
            "text/plain": [
              "<Figure size 432x288 with 1 Axes>"
            ]
          },
          "metadata": {
            "tags": [],
            "needs_background": "light"
          }
        }
      ]
    },
    {
      "cell_type": "markdown",
      "metadata": {
        "id": "cm12epGRkdKc"
      },
      "source": [
        "모델 검증(RMSE)"
      ]
    },
    {
      "cell_type": "code",
      "metadata": {
        "id": "scdw6y56T8i6"
      },
      "source": [
        "# make a prediction\n",
        "yhat = model.predict(test_X)\n",
        "test_X = test_X.reshape((test_X.shape[0], test_X.shape[2]))\n",
        "true_Y = Y.values[n_train+1:].reshape(yhat.shape[0],1)"
      ],
      "execution_count": null,
      "outputs": []
    },
    {
      "cell_type": "code",
      "metadata": {
        "colab": {
          "base_uri": "https://localhost:8080/"
        },
        "id": "BwFHycJ3T8i7",
        "outputId": "2a2bdc5d-cdc5-4342-ed62-efd96bf8dcd5"
      },
      "source": [
        "# invert scaling for forecast\n",
        "dfhat = np.concatenate((true_Y,yhat), axis = 1)\n",
        "#inv_dfhat = scaler.inverse_transform(dfhat)\n",
        "inv_yhat = inverse_minmax(dfhat[:,1],dfhat[:,0])\n",
        "\n",
        "# calculate RMSE\n",
        "rmse = np.sqrt(mean_squared_error(true_Y, inv_yhat))\n",
        "print('Test RMSE: %.3f' % rmse)"
      ],
      "execution_count": null,
      "outputs": [
        {
          "output_type": "stream",
          "text": [
            "Test RMSE: 1616.315\n"
          ],
          "name": "stdout"
        }
      ]
    },
    {
      "cell_type": "markdown",
      "metadata": {
        "id": "r5AWpojgk0U_"
      },
      "source": [
        "실제 값 vs 예측 값 비교 그래프"
      ]
    },
    {
      "cell_type": "code",
      "metadata": {
        "colab": {
          "base_uri": "https://localhost:8080/",
          "height": 339
        },
        "id": "mOctKKrAT8i8",
        "outputId": "c032609b-1624-4482-c20a-d5d5bfaa2b11"
      },
      "source": [
        "plt.figure(figsize=(10,5))\n",
        "plt.plot(true_Y, label = 'y_true')\n",
        "plt.plot(inv_yhat,label = 'y_hat')\n",
        "plt.legend()"
      ],
      "execution_count": null,
      "outputs": [
        {
          "output_type": "execute_result",
          "data": {
            "text/plain": [
              "<matplotlib.legend.Legend at 0x7f298172ded0>"
            ]
          },
          "metadata": {
            "tags": []
          },
          "execution_count": 27
        },
        {
          "output_type": "display_data",
          "data": {
            "image/png": "[encoded data removed]",
            "text/plain": [
              "<Figure size 720x360 with 1 Axes>"
            ]
          },
          "metadata": {
            "tags": [],
            "needs_background": "light"
          }
        }
      ]
    },
    {
      "cell_type": "code",
      "metadata": {
        "id": "Ub9M49K8T8i9"
      },
      "source": [
        "inv_yhat = pd.Series(inv_yhat)\n",
        "inv_yhat.index = Y[n_train+1:,].index"
      ],
      "execution_count": null,
      "outputs": []
    },
    {
      "cell_type": "code",
      "metadata": {
        "colab": {
          "base_uri": "https://localhost:8080/"
        },
        "id": "Z5WYmamPT8i9",
        "outputId": "cb8f7ceb-9f18-469a-feec-21da2617f3d1"
      },
      "source": [
        "inv_yhat.index"
      ],
      "execution_count": null,
      "outputs": [
        {
          "output_type": "execute_result",
          "data": {
            "text/plain": [
              "DatetimeIndex(['2020-08-26', '2020-08-27', '2020-08-28', '2020-08-29',\n",
              "               '2020-08-30', '2020-08-31', '2020-09-01', '2020-09-02',\n",
              "               '2020-09-03', '2020-09-04', '2020-09-05', '2020-09-06',\n",
              "               '2020-09-07', '2020-09-08', '2020-09-09', '2020-09-10',\n",
              "               '2020-09-11', '2020-09-12', '2020-09-13', '2020-09-14',\n",
              "               '2020-09-15', '2020-09-16', '2020-09-17', '2020-09-18',\n",
              "               '2020-09-19', '2020-09-20', '2020-09-21', '2020-09-22',\n",
              "               '2020-09-23', '2020-09-24', '2020-09-25', '2020-09-26',\n",
              "               '2020-09-27', '2020-09-28', '2020-09-29', '2020-09-30'],\n",
              "              dtype='datetime64[ns]', name='Date', freq=None)"
            ]
          },
          "metadata": {
            "tags": []
          },
          "execution_count": 29
        }
      ]
    },
    {
      "cell_type": "code",
      "metadata": {
        "colab": {
          "base_uri": "https://localhost:8080/",
          "height": 339
        },
        "id": "XDPXywtET8i9",
        "outputId": "3fe48198-87b8-4f02-b3b7-c7ddcc2d90af"
      },
      "source": [
        "plt.figure(figsize=(10,5))\n",
        "plt.plot(Y, label = 'y_true')\n",
        "plt.plot(inv_yhat,label = 'y_hat', c='r')\n",
        "plt.legend()"
      ],
      "execution_count": null,
      "outputs": [
        {
          "output_type": "execute_result",
          "data": {
            "text/plain": [
              "<matplotlib.legend.Legend at 0x7f29816c7490>"
            ]
          },
          "metadata": {
            "tags": []
          },
          "execution_count": 30
        },
        {
          "output_type": "display_data",
          "data": {
            "image/png": "[encoded data removed]",
            "text/plain": [
              "<Figure size 720x360 with 1 Axes>"
            ]
          },
          "metadata": {
            "tags": [],
            "needs_background": "light"
          }
        }
      ]
    }
  ]
}